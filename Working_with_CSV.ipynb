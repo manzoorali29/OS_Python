{
 "cells": [
  {
   "cell_type": "markdown",
   "id": "4717762d",
   "metadata": {},
   "source": [
    "## Objectives"
   ]
  },
  {
   "cell_type": "markdown",
   "id": "f704fcaf",
   "metadata": {},
   "source": [
    "#### Read CSV\n",
    "#### Generating CSV"
   ]
  },
  {
   "cell_type": "code",
   "execution_count": 7,
   "id": "a687e6a4",
   "metadata": {},
   "outputs": [],
   "source": [
    "# To work with CSV we need to import csv module\n",
    "import csv"
   ]
  },
  {
   "cell_type": "code",
   "execution_count": 11,
   "id": "e4ef70a7",
   "metadata": {},
   "outputs": [
    {
     "name": "stdout",
     "output_type": "stream",
     "text": [
      "Name: babar Azam, Age:  28, Score: 5000\n",
      "Name: Afridi, Age:  38, Score: 10000\n"
     ]
    }
   ],
   "source": [
    "# read the file\n",
    "with open('cricket.txt') as f:\n",
    "    parse = csv.reader(f)\n",
    "    for row in parse:\n",
    "        name, age, score = row\n",
    "        print(f'Name: {name}, Age: {age}, Score:{score}')\n",
    "    f.close()"
   ]
  },
  {
   "cell_type": "markdown",
   "id": "6a984b3a",
   "metadata": {},
   "source": [
    "#### Generating CSV"
   ]
  },
  {
   "cell_type": "code",
   "execution_count": 12,
   "id": "cf9e15b9",
   "metadata": {},
   "outputs": [],
   "source": [
    "data = [['obama', 'birthyear', 1959],['iqbal','deathyear','1937']]"
   ]
  },
  {
   "cell_type": "code",
   "execution_count": 13,
   "id": "e0cdb6bc",
   "metadata": {},
   "outputs": [],
   "source": [
    "with open('person.csv','w') as f:\n",
    "    writer = csv.writer(f)\n",
    "    writer.writerows(data) # for individual records we can use writewrow"
   ]
  },
  {
   "cell_type": "code",
   "execution_count": 16,
   "id": "e7238425",
   "metadata": {},
   "outputs": [
    {
     "data": {
      "text/plain": [
       "['Working_with_CSV.ipynb',\n",
       " 'person.csv',\n",
       " 'cricket.txt',\n",
       " '.ipynb_checkpoints',\n",
       " 'employee_file2.csv']"
      ]
     },
     "execution_count": 16,
     "metadata": {},
     "output_type": "execute_result"
    }
   ],
   "source": [
    "import os\n",
    "os.listdir()"
   ]
  },
  {
   "cell_type": "markdown",
   "id": "4952f3ac",
   "metadata": {},
   "source": [
    "#### Using DictWriter"
   ]
  },
  {
   "cell_type": "code",
   "execution_count": 15,
   "id": "b5d87b11",
   "metadata": {},
   "outputs": [],
   "source": [
    "with open('employee_file2.csv', mode='w') as csv_file:\n",
    "    fieldnames = ['emp_name', 'dept', 'birth_month']\n",
    "    writer = csv.DictWriter(csv_file, fieldnames=fieldnames)\n",
    "\n",
    "    writer.writeheader()\n",
    "    writer.writerow({'emp_name': 'John Smith', 'dept': 'Accounting', 'birth_month': 'November'})\n",
    "    writer.writerow({'emp_name': 'Erica Meyers', 'dept': 'IT', 'birth_month': 'March'})"
   ]
  },
  {
   "cell_type": "code",
   "execution_count": null,
   "id": "899bf734",
   "metadata": {},
   "outputs": [],
   "source": []
  }
 ],
 "metadata": {
  "kernelspec": {
   "display_name": "Python [conda env:spyder-cf]",
   "language": "python",
   "name": "conda-env-spyder-cf-py"
  },
  "language_info": {
   "codemirror_mode": {
    "name": "ipython",
    "version": 3
   },
   "file_extension": ".py",
   "mimetype": "text/x-python",
   "name": "python",
   "nbconvert_exporter": "python",
   "pygments_lexer": "ipython3",
   "version": "3.10.6"
  }
 },
 "nbformat": 4,
 "nbformat_minor": 5
}
